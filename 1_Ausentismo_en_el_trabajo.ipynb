{
  "nbformat": 4,
  "nbformat_minor": 0,
  "metadata": {
    "colab": {
      "provenance": [],
      "authorship_tag": "ABX9TyMJ5vbo1uNrxOQVidZ4ML8q",
      "include_colab_link": true
    },
    "kernelspec": {
      "name": "python3",
      "display_name": "Python 3"
    },
    "language_info": {
      "name": "python"
    }
  },
  "cells": [
    {
      "cell_type": "markdown",
      "metadata": {
        "id": "view-in-github",
        "colab_type": "text"
      },
      "source": [
        "<a href=\"https://colab.research.google.com/github/robertbarac/Predicting_Hours_Of_Work_Absenteeism/blob/main/1_Ausentismo_en_el_trabajo.ipynb\" target=\"_parent\"><img src=\"https://colab.research.google.com/assets/colab-badge.svg\" alt=\"Open In Colab\"/></a>"
      ]
    },
    {
      "cell_type": "markdown",
      "source": [
        "# Ausentismo en el Trabajo. EDA e Implementación de Modelos ML y DL."
      ],
      "metadata": {
        "id": "ihW6EY_kcEx-"
      }
    },
    {
      "cell_type": "markdown",
      "source": [
        "## Importación de librerías"
      ],
      "metadata": {
        "id": "gVAB6-hXcKcy"
      }
    },
    {
      "cell_type": "code",
      "execution_count": 1,
      "metadata": {
        "colab": {
          "base_uri": "https://localhost:8080/"
        },
        "id": "H-FhG-uTRx4b",
        "outputId": "501e48d1-e33e-4a16-ff69-21881ed28139"
      },
      "outputs": [
        {
          "output_type": "stream",
          "name": "stdout",
          "text": [
            "Looking in indexes: https://pypi.org/simple, https://us-python.pkg.dev/colab-wheels/public/simple/\n",
            "Collecting wget\n",
            "  Downloading wget-3.2.zip (10 kB)\n",
            "Building wheels for collected packages: wget\n",
            "  Building wheel for wget (setup.py) ... \u001b[?25l\u001b[?25hdone\n",
            "  Created wheel for wget: filename=wget-3.2-py3-none-any.whl size=9674 sha256=78ae8b1483709cfdc310d4a7fc0d284d8778a9777f06fb9faf7e1e4800549302\n",
            "  Stored in directory: /root/.cache/pip/wheels/a1/b6/7c/0e63e34eb06634181c63adacca38b79ff8f35c37e3c13e3c02\n",
            "Successfully built wget\n",
            "Installing collected packages: wget\n",
            "Successfully installed wget-3.2\n"
          ]
        }
      ],
      "source": [
        "import zipfile\n",
        "!pip install wget\n",
        "import wget\n",
        "import numpy as np\n",
        "import pandas as pd\n",
        "import matplotlib.pyplot as plt\n",
        "import seaborn as sns"
      ]
    },
    {
      "cell_type": "markdown",
      "source": [
        "## Lectura de la data"
      ],
      "metadata": {
        "id": "YPZOiPpgcUdK"
      }
    },
    {
      "cell_type": "code",
      "source": [
        "ruta_zip = \"https://archive.ics.uci.edu/ml/machine-learning-databases/00445/Absenteeism_at_work_AAA.zip\"\n",
        "ruta_extraccion = \"https://archive.ics.uci.edu/ml/machine-learning-databases/00445/\"\n",
        "\"\"\"password = None\n",
        "archivo_zip = zipfile.ZipFile(ruta_zip, \"r\")\n",
        "try:\n",
        "    print(archivo_zip.namelist())\n",
        "    archivo_zip.extractall(pwd=password, path=ruta_extraccion)\n",
        "except:\n",
        "    pass\n",
        "archivo_zip.close()\"\"\""
      ],
      "metadata": {
        "colab": {
          "base_uri": "https://localhost:8080/",
          "height": 53
        },
        "id": "Zou3dfwuTbUV",
        "outputId": "fb75dff2-467f-4bb5-a51f-3c884c1f6cff"
      },
      "execution_count": 2,
      "outputs": [
        {
          "output_type": "execute_result",
          "data": {
            "text/plain": [
              "'password = None\\narchivo_zip = zipfile.ZipFile(ruta_zip, \"r\")\\ntry:\\n    print(archivo_zip.namelist())\\n    archivo_zip.extractall(pwd=password, path=ruta_extraccion)\\nexcept:\\n    pass\\narchivo_zip.close()'"
            ],
            "application/vnd.google.colaboratory.intrinsic+json": {
              "type": "string"
            }
          },
          "metadata": {},
          "execution_count": 2
        }
      ]
    },
    {
      "cell_type": "code",
      "source": [
        "a = wget.download(ruta_zip)"
      ],
      "metadata": {
        "id": "oz80le33X16B"
      },
      "execution_count": 3,
      "outputs": []
    },
    {
      "cell_type": "code",
      "source": [
        "a"
      ],
      "metadata": {
        "colab": {
          "base_uri": "https://localhost:8080/",
          "height": 35
        },
        "id": "7BrDSrjxYImV",
        "outputId": "74834f8f-8142-4f19-f806-75236d7a83de"
      },
      "execution_count": 4,
      "outputs": [
        {
          "output_type": "execute_result",
          "data": {
            "text/plain": [
              "'Absenteeism_at_work_AAA.zip'"
            ],
            "application/vnd.google.colaboratory.intrinsic+json": {
              "type": "string"
            }
          },
          "metadata": {},
          "execution_count": 4
        }
      ]
    },
    {
      "cell_type": "code",
      "source": [
        "archivo_zip = zipfile.ZipFile(\"/content/Absenteeism_at_work_AAA.zip\", \"r\")"
      ],
      "metadata": {
        "id": "eCo0RiDuZ1mm"
      },
      "execution_count": 5,
      "outputs": []
    },
    {
      "cell_type": "code",
      "source": [
        "archivo_zip.namelist()"
      ],
      "metadata": {
        "colab": {
          "base_uri": "https://localhost:8080/"
        },
        "id": "fDfeE8V5Z6HO",
        "outputId": "a7d61ae1-db13-465b-c59b-bb035b2c06aa"
      },
      "execution_count": 6,
      "outputs": [
        {
          "output_type": "execute_result",
          "data": {
            "text/plain": [
              "['Absenteeism_at_work.arff',\n",
              " 'Absenteeism_at_work.csv',\n",
              " 'Absenteeism_at_work.xls',\n",
              " 'Attribute Information.docx',\n",
              " 'UCI_ABS_TEXT.docx']"
            ]
          },
          "metadata": {},
          "execution_count": 6
        }
      ]
    },
    {
      "cell_type": "code",
      "source": [
        "archivo_zip.extractall(\"/content/\")"
      ],
      "metadata": {
        "id": "res-2b2ya-mL"
      },
      "execution_count": 7,
      "outputs": []
    },
    {
      "cell_type": "code",
      "source": [
        "ausentismo = pd.read_csv(\"/content/Absenteeism_at_work.csv\", delimiter=\";\")"
      ],
      "metadata": {
        "id": "t4_s0p6cbyMm"
      },
      "execution_count": 8,
      "outputs": []
    },
    {
      "cell_type": "code",
      "source": [
        "ausentismo.head()"
      ],
      "metadata": {
        "colab": {
          "base_uri": "https://localhost:8080/",
          "height": 352
        },
        "id": "meSsdx2xcp-A",
        "outputId": "0d37e282-8885-4872-91ff-d6a7c5c0ea05"
      },
      "execution_count": 9,
      "outputs": [
        {
          "output_type": "execute_result",
          "data": {
            "text/plain": [
              "   ID  Reason for absence  Month of absence  Day of the week  Seasons  \\\n",
              "0  11                  26                 7                3        1   \n",
              "1  36                   0                 7                3        1   \n",
              "2   3                  23                 7                4        1   \n",
              "3   7                   7                 7                5        1   \n",
              "4  11                  23                 7                5        1   \n",
              "\n",
              "   Transportation expense  Distance from Residence to Work  Service time  Age  \\\n",
              "0                     289                               36            13   33   \n",
              "1                     118                               13            18   50   \n",
              "2                     179                               51            18   38   \n",
              "3                     279                                5            14   39   \n",
              "4                     289                               36            13   33   \n",
              "\n",
              "   Work load Average/day   ...  Disciplinary failure  Education  Son  \\\n",
              "0                 239.554  ...                     0          1    2   \n",
              "1                 239.554  ...                     1          1    1   \n",
              "2                 239.554  ...                     0          1    0   \n",
              "3                 239.554  ...                     0          1    2   \n",
              "4                 239.554  ...                     0          1    2   \n",
              "\n",
              "   Social drinker  Social smoker  Pet  Weight  Height  Body mass index  \\\n",
              "0               1              0    1      90     172               30   \n",
              "1               1              0    0      98     178               31   \n",
              "2               1              0    0      89     170               31   \n",
              "3               1              1    0      68     168               24   \n",
              "4               1              0    1      90     172               30   \n",
              "\n",
              "   Absenteeism time in hours  \n",
              "0                          4  \n",
              "1                          0  \n",
              "2                          2  \n",
              "3                          4  \n",
              "4                          2  \n",
              "\n",
              "[5 rows x 21 columns]"
            ],
            "text/html": [
              "\n",
              "  <div id=\"df-d824410c-b078-410e-94d5-ea2d83587522\">\n",
              "    <div class=\"colab-df-container\">\n",
              "      <div>\n",
              "<style scoped>\n",
              "    .dataframe tbody tr th:only-of-type {\n",
              "        vertical-align: middle;\n",
              "    }\n",
              "\n",
              "    .dataframe tbody tr th {\n",
              "        vertical-align: top;\n",
              "    }\n",
              "\n",
              "    .dataframe thead th {\n",
              "        text-align: right;\n",
              "    }\n",
              "</style>\n",
              "<table border=\"1\" class=\"dataframe\">\n",
              "  <thead>\n",
              "    <tr style=\"text-align: right;\">\n",
              "      <th></th>\n",
              "      <th>ID</th>\n",
              "      <th>Reason for absence</th>\n",
              "      <th>Month of absence</th>\n",
              "      <th>Day of the week</th>\n",
              "      <th>Seasons</th>\n",
              "      <th>Transportation expense</th>\n",
              "      <th>Distance from Residence to Work</th>\n",
              "      <th>Service time</th>\n",
              "      <th>Age</th>\n",
              "      <th>Work load Average/day</th>\n",
              "      <th>...</th>\n",
              "      <th>Disciplinary failure</th>\n",
              "      <th>Education</th>\n",
              "      <th>Son</th>\n",
              "      <th>Social drinker</th>\n",
              "      <th>Social smoker</th>\n",
              "      <th>Pet</th>\n",
              "      <th>Weight</th>\n",
              "      <th>Height</th>\n",
              "      <th>Body mass index</th>\n",
              "      <th>Absenteeism time in hours</th>\n",
              "    </tr>\n",
              "  </thead>\n",
              "  <tbody>\n",
              "    <tr>\n",
              "      <th>0</th>\n",
              "      <td>11</td>\n",
              "      <td>26</td>\n",
              "      <td>7</td>\n",
              "      <td>3</td>\n",
              "      <td>1</td>\n",
              "      <td>289</td>\n",
              "      <td>36</td>\n",
              "      <td>13</td>\n",
              "      <td>33</td>\n",
              "      <td>239.554</td>\n",
              "      <td>...</td>\n",
              "      <td>0</td>\n",
              "      <td>1</td>\n",
              "      <td>2</td>\n",
              "      <td>1</td>\n",
              "      <td>0</td>\n",
              "      <td>1</td>\n",
              "      <td>90</td>\n",
              "      <td>172</td>\n",
              "      <td>30</td>\n",
              "      <td>4</td>\n",
              "    </tr>\n",
              "    <tr>\n",
              "      <th>1</th>\n",
              "      <td>36</td>\n",
              "      <td>0</td>\n",
              "      <td>7</td>\n",
              "      <td>3</td>\n",
              "      <td>1</td>\n",
              "      <td>118</td>\n",
              "      <td>13</td>\n",
              "      <td>18</td>\n",
              "      <td>50</td>\n",
              "      <td>239.554</td>\n",
              "      <td>...</td>\n",
              "      <td>1</td>\n",
              "      <td>1</td>\n",
              "      <td>1</td>\n",
              "      <td>1</td>\n",
              "      <td>0</td>\n",
              "      <td>0</td>\n",
              "      <td>98</td>\n",
              "      <td>178</td>\n",
              "      <td>31</td>\n",
              "      <td>0</td>\n",
              "    </tr>\n",
              "    <tr>\n",
              "      <th>2</th>\n",
              "      <td>3</td>\n",
              "      <td>23</td>\n",
              "      <td>7</td>\n",
              "      <td>4</td>\n",
              "      <td>1</td>\n",
              "      <td>179</td>\n",
              "      <td>51</td>\n",
              "      <td>18</td>\n",
              "      <td>38</td>\n",
              "      <td>239.554</td>\n",
              "      <td>...</td>\n",
              "      <td>0</td>\n",
              "      <td>1</td>\n",
              "      <td>0</td>\n",
              "      <td>1</td>\n",
              "      <td>0</td>\n",
              "      <td>0</td>\n",
              "      <td>89</td>\n",
              "      <td>170</td>\n",
              "      <td>31</td>\n",
              "      <td>2</td>\n",
              "    </tr>\n",
              "    <tr>\n",
              "      <th>3</th>\n",
              "      <td>7</td>\n",
              "      <td>7</td>\n",
              "      <td>7</td>\n",
              "      <td>5</td>\n",
              "      <td>1</td>\n",
              "      <td>279</td>\n",
              "      <td>5</td>\n",
              "      <td>14</td>\n",
              "      <td>39</td>\n",
              "      <td>239.554</td>\n",
              "      <td>...</td>\n",
              "      <td>0</td>\n",
              "      <td>1</td>\n",
              "      <td>2</td>\n",
              "      <td>1</td>\n",
              "      <td>1</td>\n",
              "      <td>0</td>\n",
              "      <td>68</td>\n",
              "      <td>168</td>\n",
              "      <td>24</td>\n",
              "      <td>4</td>\n",
              "    </tr>\n",
              "    <tr>\n",
              "      <th>4</th>\n",
              "      <td>11</td>\n",
              "      <td>23</td>\n",
              "      <td>7</td>\n",
              "      <td>5</td>\n",
              "      <td>1</td>\n",
              "      <td>289</td>\n",
              "      <td>36</td>\n",
              "      <td>13</td>\n",
              "      <td>33</td>\n",
              "      <td>239.554</td>\n",
              "      <td>...</td>\n",
              "      <td>0</td>\n",
              "      <td>1</td>\n",
              "      <td>2</td>\n",
              "      <td>1</td>\n",
              "      <td>0</td>\n",
              "      <td>1</td>\n",
              "      <td>90</td>\n",
              "      <td>172</td>\n",
              "      <td>30</td>\n",
              "      <td>2</td>\n",
              "    </tr>\n",
              "  </tbody>\n",
              "</table>\n",
              "<p>5 rows × 21 columns</p>\n",
              "</div>\n",
              "      <button class=\"colab-df-convert\" onclick=\"convertToInteractive('df-d824410c-b078-410e-94d5-ea2d83587522')\"\n",
              "              title=\"Convert this dataframe to an interactive table.\"\n",
              "              style=\"display:none;\">\n",
              "        \n",
              "  <svg xmlns=\"http://www.w3.org/2000/svg\" height=\"24px\"viewBox=\"0 0 24 24\"\n",
              "       width=\"24px\">\n",
              "    <path d=\"M0 0h24v24H0V0z\" fill=\"none\"/>\n",
              "    <path d=\"M18.56 5.44l.94 2.06.94-2.06 2.06-.94-2.06-.94-.94-2.06-.94 2.06-2.06.94zm-11 1L8.5 8.5l.94-2.06 2.06-.94-2.06-.94L8.5 2.5l-.94 2.06-2.06.94zm10 10l.94 2.06.94-2.06 2.06-.94-2.06-.94-.94-2.06-.94 2.06-2.06.94z\"/><path d=\"M17.41 7.96l-1.37-1.37c-.4-.4-.92-.59-1.43-.59-.52 0-1.04.2-1.43.59L10.3 9.45l-7.72 7.72c-.78.78-.78 2.05 0 2.83L4 21.41c.39.39.9.59 1.41.59.51 0 1.02-.2 1.41-.59l7.78-7.78 2.81-2.81c.8-.78.8-2.07 0-2.86zM5.41 20L4 18.59l7.72-7.72 1.47 1.35L5.41 20z\"/>\n",
              "  </svg>\n",
              "      </button>\n",
              "      \n",
              "  <style>\n",
              "    .colab-df-container {\n",
              "      display:flex;\n",
              "      flex-wrap:wrap;\n",
              "      gap: 12px;\n",
              "    }\n",
              "\n",
              "    .colab-df-convert {\n",
              "      background-color: #E8F0FE;\n",
              "      border: none;\n",
              "      border-radius: 50%;\n",
              "      cursor: pointer;\n",
              "      display: none;\n",
              "      fill: #1967D2;\n",
              "      height: 32px;\n",
              "      padding: 0 0 0 0;\n",
              "      width: 32px;\n",
              "    }\n",
              "\n",
              "    .colab-df-convert:hover {\n",
              "      background-color: #E2EBFA;\n",
              "      box-shadow: 0px 1px 2px rgba(60, 64, 67, 0.3), 0px 1px 3px 1px rgba(60, 64, 67, 0.15);\n",
              "      fill: #174EA6;\n",
              "    }\n",
              "\n",
              "    [theme=dark] .colab-df-convert {\n",
              "      background-color: #3B4455;\n",
              "      fill: #D2E3FC;\n",
              "    }\n",
              "\n",
              "    [theme=dark] .colab-df-convert:hover {\n",
              "      background-color: #434B5C;\n",
              "      box-shadow: 0px 1px 3px 1px rgba(0, 0, 0, 0.15);\n",
              "      filter: drop-shadow(0px 1px 2px rgba(0, 0, 0, 0.3));\n",
              "      fill: #FFFFFF;\n",
              "    }\n",
              "  </style>\n",
              "\n",
              "      <script>\n",
              "        const buttonEl =\n",
              "          document.querySelector('#df-d824410c-b078-410e-94d5-ea2d83587522 button.colab-df-convert');\n",
              "        buttonEl.style.display =\n",
              "          google.colab.kernel.accessAllowed ? 'block' : 'none';\n",
              "\n",
              "        async function convertToInteractive(key) {\n",
              "          const element = document.querySelector('#df-d824410c-b078-410e-94d5-ea2d83587522');\n",
              "          const dataTable =\n",
              "            await google.colab.kernel.invokeFunction('convertToInteractive',\n",
              "                                                     [key], {});\n",
              "          if (!dataTable) return;\n",
              "\n",
              "          const docLinkHtml = 'Like what you see? Visit the ' +\n",
              "            '<a target=\"_blank\" href=https://colab.research.google.com/notebooks/data_table.ipynb>data table notebook</a>'\n",
              "            + ' to learn more about interactive tables.';\n",
              "          element.innerHTML = '';\n",
              "          dataTable['output_type'] = 'display_data';\n",
              "          await google.colab.output.renderOutput(dataTable, element);\n",
              "          const docLink = document.createElement('div');\n",
              "          docLink.innerHTML = docLinkHtml;\n",
              "          element.appendChild(docLink);\n",
              "        }\n",
              "      </script>\n",
              "    </div>\n",
              "  </div>\n",
              "  "
            ]
          },
          "metadata": {},
          "execution_count": 9
        }
      ]
    },
    {
      "cell_type": "code",
      "source": [
        "ausentismo.info()"
      ],
      "metadata": {
        "colab": {
          "base_uri": "https://localhost:8080/"
        },
        "id": "68Kp2YGCcvzo",
        "outputId": "c1bbb70a-94aa-4f0f-daa3-02a643353466"
      },
      "execution_count": 10,
      "outputs": [
        {
          "output_type": "stream",
          "name": "stdout",
          "text": [
            "<class 'pandas.core.frame.DataFrame'>\n",
            "RangeIndex: 740 entries, 0 to 739\n",
            "Data columns (total 21 columns):\n",
            " #   Column                           Non-Null Count  Dtype  \n",
            "---  ------                           --------------  -----  \n",
            " 0   ID                               740 non-null    int64  \n",
            " 1   Reason for absence               740 non-null    int64  \n",
            " 2   Month of absence                 740 non-null    int64  \n",
            " 3   Day of the week                  740 non-null    int64  \n",
            " 4   Seasons                          740 non-null    int64  \n",
            " 5   Transportation expense           740 non-null    int64  \n",
            " 6   Distance from Residence to Work  740 non-null    int64  \n",
            " 7   Service time                     740 non-null    int64  \n",
            " 8   Age                              740 non-null    int64  \n",
            " 9   Work load Average/day            740 non-null    float64\n",
            " 10  Hit target                       740 non-null    int64  \n",
            " 11  Disciplinary failure             740 non-null    int64  \n",
            " 12  Education                        740 non-null    int64  \n",
            " 13  Son                              740 non-null    int64  \n",
            " 14  Social drinker                   740 non-null    int64  \n",
            " 15  Social smoker                    740 non-null    int64  \n",
            " 16  Pet                              740 non-null    int64  \n",
            " 17  Weight                           740 non-null    int64  \n",
            " 18  Height                           740 non-null    int64  \n",
            " 19  Body mass index                  740 non-null    int64  \n",
            " 20  Absenteeism time in hours        740 non-null    int64  \n",
            "dtypes: float64(1), int64(20)\n",
            "memory usage: 121.5 KB\n"
          ]
        }
      ]
    },
    {
      "cell_type": "code",
      "source": [
        "ausentismo.shape"
      ],
      "metadata": {
        "colab": {
          "base_uri": "https://localhost:8080/"
        },
        "id": "Rll9bqPic38b",
        "outputId": "8b9d83df-335f-46e1-d603-9c41a7f9b6d2"
      },
      "execution_count": 11,
      "outputs": [
        {
          "output_type": "execute_result",
          "data": {
            "text/plain": [
              "(740, 21)"
            ]
          },
          "metadata": {},
          "execution_count": 11
        }
      ]
    },
    {
      "cell_type": "markdown",
      "source": [
        "## EDA & Visualization"
      ],
      "metadata": {
        "id": "8SL-wG_5k_2Z"
      }
    },
    {
      "cell_type": "code",
      "source": [
        "fig = plt.figure(figsize = (8,8))\n",
        "sns.histplot(ausentismo, x = 'Absenteeism time in hours', hue = 'Social drinker', multiple='stack')\n",
        "plt.show()"
      ],
      "metadata": {
        "colab": {
          "base_uri": "https://localhost:8080/",
          "height": 497
        },
        "id": "rg9OvS8Hfbb9",
        "outputId": "6c8f17f6-9a83-4c06-9ad3-db059e3158e3"
      },
      "execution_count": 12,
      "outputs": [
        {
          "output_type": "display_data",
          "data": {
            "text/plain": [
              "<Figure size 576x576 with 1 Axes>"
            ],
            "image/png": "[encoded data removed]"
          },
          "metadata": {
            "needs_background": "light"
          }
        }
      ]
    },
    {
      "cell_type": "code",
      "source": [
        "fig = plt.figure(figsize = (8,8))\n",
        "sns.histplot(ausentismo, x = 'Absenteeism time in hours', hue = 'Son', multiple='stack', cumulative=False, stat='count')\n",
        "plt.show()"
      ],
      "metadata": {
        "colab": {
          "base_uri": "https://localhost:8080/",
          "height": 497
        },
        "id": "pEgNCe_Vfguz",
        "outputId": "f2ddb4da-4571-4a1c-d96f-634ad0cc50c1"
      },
      "execution_count": 13,
      "outputs": [
        {
          "output_type": "display_data",
          "data": {
            "text/plain": [
              "<Figure size 576x576 with 1 Axes>"
            ],
            "image/png": "[encoded data removed]"
          },
          "metadata": {
            "needs_background": "light"
          }
        }
      ]
    },
    {
      "cell_type": "code",
      "source": [
        "fig = plt.figure(figsize = (10,10))\n",
        "sns.histplot(ausentismo, x = 'Absenteeism time in hours', hue = 'Education', multiple='stack', cumulative=False, stat='count')\n",
        "plt.show()"
      ],
      "metadata": {
        "colab": {
          "base_uri": "https://localhost:8080/",
          "height": 606
        },
        "id": "4zmBBbI3lKcf",
        "outputId": "8d734dda-3d6f-4356-b130-ec6fc79be5f5"
      },
      "execution_count": 14,
      "outputs": [
        {
          "output_type": "display_data",
          "data": {
            "text/plain": [
              "<Figure size 720x720 with 1 Axes>"
            ],
            "image/png": "[encoded data removed]"
          },
          "metadata": {
            "needs_background": "light"
          }
        }
      ]
    },
    {
      "cell_type": "code",
      "source": [
        "fig = plt.figure(figsize = (10,10))\n",
        "sns.histplot(ausentismo, x = 'Absenteeism time in hours', hue = 'Age', cumulative=False, stat='count', multiple='stack')\n",
        "plt.show()"
      ],
      "metadata": {
        "colab": {
          "base_uri": "https://localhost:8080/",
          "height": 606
        },
        "id": "vp1gcjEflqHO",
        "outputId": "8b6970fa-43bc-4b8f-db8a-85d08063d018"
      },
      "execution_count": 15,
      "outputs": [
        {
          "output_type": "display_data",
          "data": {
            "text/plain": [
              "<Figure size 720x720 with 1 Axes>"
            ],
            "image/png": "[encoded data removed]"
          },
          "metadata": {
            "needs_background": "light"
          }
        }
      ]
    },
    {
      "cell_type": "code",
      "source": [
        "sns.scatterplot(ausentismo['Age'], ausentismo['Absenteeism time in hours'])"
      ],
      "metadata": {
        "colab": {
          "base_uri": "https://localhost:8080/",
          "height": 351
        },
        "id": "nIpOGpiWq7q-",
        "outputId": "49d7388c-f4bb-4a3c-ab4d-777fdfd2a5d4"
      },
      "execution_count": 16,
      "outputs": [
        {
          "output_type": "stream",
          "name": "stderr",
          "text": [
            "/usr/local/lib/python3.7/dist-packages/seaborn/_decorators.py:43: FutureWarning: Pass the following variables as keyword args: x, y. From version 0.12, the only valid positional argument will be `data`, and passing other arguments without an explicit keyword will result in an error or misinterpretation.\n",
            "  FutureWarning\n"
          ]
        },
        {
          "output_type": "execute_result",
          "data": {
            "text/plain": [
              "<matplotlib.axes._subplots.AxesSubplot at 0x7f6cf2e59c90>"
            ]
          },
          "metadata": {},
          "execution_count": 16
        },
        {
          "output_type": "display_data",
          "data": {
            "text/plain": [
              "<Figure size 432x288 with 1 Axes>"
            ],
            "image/png": "[encoded data removed]"
          },
          "metadata": {
            "needs_background": "light"
          }
        }
      ]
    },
    {
      "cell_type": "code",
      "source": [
        "sns.histplot(ausentismo, x = 'Absenteeism time in hours')\n",
        "print(ausentismo['Absenteeism time in hours'].mean(), ausentismo['Absenteeism time in hours'].median())"
      ],
      "metadata": {
        "colab": {
          "base_uri": "https://localhost:8080/",
          "height": 296
        },
        "id": "gDHruuAClxMa",
        "outputId": "ad4a484e-3a9b-4126-e7ce-3a611700ccb1"
      },
      "execution_count": 17,
      "outputs": [
        {
          "output_type": "stream",
          "name": "stdout",
          "text": [
            "6.924324324324324 3.0\n"
          ]
        },
        {
          "output_type": "display_data",
          "data": {
            "text/plain": [
              "<Figure size 432x288 with 1 Axes>"
            ],
            "image/png": "[encoded data removed]"
          },
          "metadata": {
            "needs_background": "light"
          }
        }
      ]
    },
    {
      "cell_type": "markdown",
      "source": [
        "**¿Qué días faltan al trabajo?**"
      ],
      "metadata": {
        "id": "DO1UIaTenHU9"
      }
    },
    {
      "cell_type": "code",
      "source": [
        "fig = plt.figure(figsize=(8,8))\n",
        "sns.histplot(ausentismo, x = 'Day of the week')\n",
        "plt.xticks([1,2,3,4,5,6], [\"Lunes\", \"Martes\", \"Miércoles\", \"Jueves\", \"Viernes\", \"Sábado\"])\n",
        "plt.show()"
      ],
      "metadata": {
        "colab": {
          "base_uri": "https://localhost:8080/",
          "height": 497
        },
        "id": "CW4xb7znmhjo",
        "outputId": "d1416b1e-4fbe-49c8-e19d-07aba02039ee"
      },
      "execution_count": 23,
      "outputs": [
        {
          "output_type": "display_data",
          "data": {
            "text/plain": [
              "<Figure size 576x576 with 1 Axes>"
            ],
            "image/png": "[encoded data removed]"
          },
          "metadata": {
            "needs_background": "light"
          }
        }
      ]
    },
    {
      "cell_type": "markdown",
      "source": [
        "Se nota que es muy parejo el ausentismo"
      ],
      "metadata": {
        "id": "Qb-r6y1nQM1X"
      }
    },
    {
      "cell_type": "code",
      "source": [
        "ausentismo['Day of the week'].unique()"
      ],
      "metadata": {
        "colab": {
          "base_uri": "https://localhost:8080/"
        },
        "id": "XMKCwitls4ys",
        "outputId": "0684a7dd-7dbd-40a5-de42-9be1229bfcc8"
      },
      "execution_count": 24,
      "outputs": [
        {
          "output_type": "execute_result",
          "data": {
            "text/plain": [
              "array([3, 4, 5, 6, 2])"
            ]
          },
          "metadata": {},
          "execution_count": 24
        }
      ]
    },
    {
      "cell_type": "code",
      "source": [
        "sns.histplot(ausentismo, x = 'Absenteeism time in hours', hue = 'Disciplinary failure')"
      ],
      "metadata": {
        "colab": {
          "base_uri": "https://localhost:8080/",
          "height": 296
        },
        "id": "oNJlNAtYm1Z0",
        "outputId": "eda667d2-5117-409b-dff8-8e8149502858"
      },
      "execution_count": 25,
      "outputs": [
        {
          "output_type": "execute_result",
          "data": {
            "text/plain": [
              "<matplotlib.axes._subplots.AxesSubplot at 0x7f6cf0b12090>"
            ]
          },
          "metadata": {},
          "execution_count": 25
        },
        {
          "output_type": "display_data",
          "data": {
            "text/plain": [
              "<Figure size 432x288 with 1 Axes>"
            ],
            "image/png": "[encoded data removed]"
          },
          "metadata": {
            "needs_background": "light"
          }
        }
      ]
    },
    {
      "cell_type": "code",
      "source": [
        "fig = plt.figure(figsize = (10,10))\n",
        "sns.histplot(ausentismo, x = 'Absenteeism time in hours', hue = 'Hit target', multiple='stack')\n",
        "plt.show()"
      ],
      "metadata": {
        "colab": {
          "base_uri": "https://localhost:8080/",
          "height": 606
        },
        "id": "rEtAxKWUn4AM",
        "outputId": "fae17ebb-5b5e-4240-ecb4-f9ad3812ad47"
      },
      "execution_count": 26,
      "outputs": [
        {
          "output_type": "display_data",
          "data": {
            "text/plain": [
              "<Figure size 720x720 with 1 Axes>"
            ],
            "image/png": "[encoded data removed]"
          },
          "metadata": {
            "needs_background": "light"
          }
        }
      ]
    },
    {
      "cell_type": "code",
      "source": [
        "fig = plt.figure(figsize = (8,8))\n",
        "sns.histplot(ausentismo, x = 'Absenteeism time in hours', hue = 'Body mass index', multiple='stack')\n",
        "plt.show()"
      ],
      "metadata": {
        "colab": {
          "base_uri": "https://localhost:8080/",
          "height": 497
        },
        "id": "T7nyOhgqoKJj",
        "outputId": "8f07acbb-f919-4d4e-b1b3-ec214be24d28"
      },
      "execution_count": 27,
      "outputs": [
        {
          "output_type": "display_data",
          "data": {
            "text/plain": [
              "<Figure size 576x576 with 1 Axes>"
            ],
            "image/png": "[encoded data removed]"
          },
          "metadata": {
            "needs_background": "light"
          }
        }
      ]
    },
    {
      "cell_type": "markdown",
      "source": [
        "## Modelo con Sklearn"
      ],
      "metadata": {
        "id": "tVO73T2VueQN"
      }
    },
    {
      "cell_type": "markdown",
      "source": [
        "Importamos librerías..."
      ],
      "metadata": {
        "id": "By1vRT_DRfws"
      }
    },
    {
      "cell_type": "code",
      "source": [
        "from sklearn.preprocessing import StandardScaler\n",
        "from sklearn.linear_model import LinearRegression\n",
        "from sklearn.model_selection import train_test_split"
      ],
      "metadata": {
        "id": "hzJZI42VuA97"
      },
      "execution_count": 30,
      "outputs": []
    },
    {
      "cell_type": "code",
      "source": [
        "ausentismo.columns"
      ],
      "metadata": {
        "colab": {
          "base_uri": "https://localhost:8080/"
        },
        "id": "TtEupv_ySEgy",
        "outputId": "3595cc86-9797-4261-cb54-fff6966101e7"
      },
      "execution_count": 29,
      "outputs": [
        {
          "output_type": "execute_result",
          "data": {
            "text/plain": [
              "Index(['ID', 'Reason for absence', 'Month of absence', 'Day of the week',\n",
              "       'Seasons', 'Transportation expense', 'Distance from Residence to Work',\n",
              "       'Service time', 'Age', 'Work load Average/day ', 'Hit target',\n",
              "       'Disciplinary failure', 'Education', 'Son', 'Social drinker',\n",
              "       'Social smoker', 'Pet', 'Weight', 'Height', 'Body mass index',\n",
              "       'Absenteeism time in hours'],\n",
              "      dtype='object')"
            ]
          },
          "metadata": {},
          "execution_count": 29
        }
      ]
    },
    {
      "cell_type": "code",
      "source": [
        "X = ausentismo[['ID', 'Reason for absence', 'Month of absence', 'Day of the week',\n",
        "       'Seasons', 'Transportation expense', 'Distance from Residence to Work',\n",
        "       'Service time', 'Age', 'Work load Average/day ', 'Hit target',\n",
        "       'Disciplinary failure', 'Education', 'Son', 'Social drinker',\n",
        "       'Social smoker', 'Pet', 'Weight', 'Height', 'Body mass index']].values\n",
        "y = ausentismo['Absenteeism time in hours'].values.reshape(-1, 1)\n",
        "sc_x = StandardScaler()\n",
        "sc_y = StandardScaler()\n",
        "X_std = sc_x.fit_transform(X)\n",
        "y_std = sc_y.fit_transform(y)\n",
        "\n",
        "x_train, x_test, y_train, y_test = train_test_split(X_std, y_std, test_size=0.3)\n",
        "\n",
        "slr = LinearRegression()\n",
        "slr.fit(x_train, y_train)"
      ],
      "metadata": {
        "colab": {
          "base_uri": "https://localhost:8080/"
        },
        "id": "cSVzfDE0RinY",
        "outputId": "8fd4cc4c-5a09-42b1-b081-5e59d510b638"
      },
      "execution_count": 32,
      "outputs": [
        {
          "output_type": "execute_result",
          "data": {
            "text/plain": [
              "LinearRegression()"
            ]
          },
          "metadata": {},
          "execution_count": 32
        }
      ]
    },
    {
      "cell_type": "code",
      "source": [
        "slr.predict(x_test)"
      ],
      "metadata": {
        "id": "T8vICyJ0S9lD"
      },
      "execution_count": null,
      "outputs": []
    },
    {
      "cell_type": "code",
      "source": [
        "slr.score(x_test, y_test)"
      ],
      "metadata": {
        "colab": {
          "base_uri": "https://localhost:8080/"
        },
        "id": "y9s8RrgCTYPF",
        "outputId": "ecab40b4-a38d-4c3e-df5a-30b83468e37d"
      },
      "execution_count": 35,
      "outputs": [
        {
          "output_type": "execute_result",
          "data": {
            "text/plain": [
              "0.08854245805382599"
            ]
          },
          "metadata": {},
          "execution_count": 35
        }
      ]
    },
    {
      "cell_type": "markdown",
      "source": [
        "## Modelo con Tensorflow"
      ],
      "metadata": {
        "id": "n87xUygWukz3"
      }
    },
    {
      "cell_type": "code",
      "source": [
        "import tensorflow as tf\n",
        "from tensorflow.keras.layers import Dense, Dropout\n",
        "from tensorflow.keras.models import Sequential\n",
        "from tensorflow.keras.regularizers import L1, L1L2, L2"
      ],
      "metadata": {
        "id": "QgtBBEleunR1"
      },
      "execution_count": 63,
      "outputs": []
    },
    {
      "cell_type": "code",
      "source": [
        "model2 = Sequential([\n",
        "    Dense(64, activation='relu',input_shape=(20,)),\n",
        "    Dropout(0.2),\n",
        "    Dense(128, activation='relu'),\n",
        "    Dropout(0.4),\n",
        "    Dense(32, activation='relu'),\n",
        "    Dropout(0.2),\n",
        "    Dense(1, activation='linear')\n",
        "])"
      ],
      "metadata": {
        "id": "AonjB-yCYYOg"
      },
      "execution_count": 118,
      "outputs": []
    },
    {
      "cell_type": "code",
      "source": [
        "model2.compile(optimizer='rmsprop', loss='mse', metrics=['mae'])"
      ],
      "metadata": {
        "id": "SLEzVR73UT3v"
      },
      "execution_count": 119,
      "outputs": []
    },
    {
      "cell_type": "code",
      "source": [
        "model2.fit(x_train, y_train, epochs = 300)"
      ],
      "metadata": {
        "colab": {
          "base_uri": "https://localhost:8080/"
        },
        "id": "JfiWhGBGUhDQ",
        "outputId": "2c61e543-6823-4430-8b8a-7f6ab898e046"
      },
      "execution_count": 121,
      "outputs": [
        {
          "output_type": "stream",
          "name": "stdout",
          "text": [
            "Epoch 1/300\n",
            "17/17 [==============================] - 0s 6ms/step - loss: 0.6418 - mae: 0.3553\n",
            "Epoch 2/300\n",
            "17/17 [==============================] - 0s 5ms/step - loss: 0.6060 - mae: 0.3490\n",
            "Epoch 3/300\n",
            "17/17 [==============================] - 0s 5ms/step - loss: 0.6446 - mae: 0.3626\n",
            "Epoch 4/300\n",
            "17/17 [==============================] - 0s 6ms/step - loss: 0.6548 - mae: 0.3533\n",
            "Epoch 5/300\n",
            "17/17 [==============================] - 0s 5ms/step - loss: 0.6817 - mae: 0.3537\n",
            "Epoch 6/300\n",
            "17/17 [==============================] - 0s 10ms/step - loss: 0.7368 - mae: 0.3631\n",
            "Epoch 7/300\n",
            "17/17 [==============================] - 0s 8ms/step - loss: 0.6003 - mae: 0.3325\n",
            "Epoch 8/300\n",
            "17/17 [==============================] - 0s 9ms/step - loss: 0.6364 - mae: 0.3423\n",
            "Epoch 9/300\n",
            "17/17 [==============================] - 0s 9ms/step - loss: 0.6729 - mae: 0.3413\n",
            "Epoch 10/300\n",
            "17/17 [==============================] - 0s 8ms/step - loss: 0.5532 - mae: 0.3560\n",
            "Epoch 11/300\n",
            "17/17 [==============================] - 0s 4ms/step - loss: 0.6424 - mae: 0.3528\n",
            "Epoch 12/300\n",
            "17/17 [==============================] - 0s 3ms/step - loss: 0.6474 - mae: 0.3465\n",
            "Epoch 13/300\n",
            "17/17 [==============================] - 0s 3ms/step - loss: 0.6271 - mae: 0.3594\n",
            "Epoch 14/300\n",
            "17/17 [==============================] - 0s 3ms/step - loss: 0.6254 - mae: 0.3478\n",
            "Epoch 15/300\n",
            "17/17 [==============================] - 0s 4ms/step - loss: 0.6542 - mae: 0.3611\n",
            "Epoch 16/300\n",
            "17/17 [==============================] - 0s 3ms/step - loss: 0.5860 - mae: 0.3441\n",
            "Epoch 17/300\n",
            "17/17 [==============================] - 0s 3ms/step - loss: 0.5244 - mae: 0.3346\n",
            "Epoch 18/300\n",
            "17/17 [==============================] - 0s 3ms/step - loss: 0.6805 - mae: 0.3547\n",
            "Epoch 19/300\n",
            "17/17 [==============================] - 0s 3ms/step - loss: 0.6101 - mae: 0.3383\n",
            "Epoch 20/300\n",
            "17/17 [==============================] - 0s 3ms/step - loss: 0.5992 - mae: 0.3482\n",
            "Epoch 21/300\n",
            "17/17 [==============================] - 0s 2ms/step - loss: 0.6441 - mae: 0.3358\n",
            "Epoch 22/300\n",
            "17/17 [==============================] - 0s 3ms/step - loss: 0.6443 - mae: 0.3444\n",
            "Epoch 23/300\n",
            "17/17 [==============================] - 0s 3ms/step - loss: 0.5232 - mae: 0.3230\n",
            "Epoch 24/300\n",
            "17/17 [==============================] - 0s 3ms/step - loss: 0.5119 - mae: 0.3203\n",
            "Epoch 25/300\n",
            "17/17 [==============================] - 0s 3ms/step - loss: 0.5185 - mae: 0.3245\n",
            "Epoch 26/300\n",
            "17/17 [==============================] - 0s 3ms/step - loss: 0.5085 - mae: 0.3161\n",
            "Epoch 27/300\n",
            "17/17 [==============================] - 0s 3ms/step - loss: 0.6091 - mae: 0.3521\n",
            "Epoch 28/300\n",
            "17/17 [==============================] - 0s 3ms/step - loss: 0.6425 - mae: 0.3375\n",
            "Epoch 29/300\n",
            "17/17 [==============================] - 0s 3ms/step - loss: 0.7040 - mae: 0.3544\n",
            "Epoch 30/300\n",
            "17/17 [==============================] - 0s 3ms/step - loss: 0.5976 - mae: 0.3406\n",
            "Epoch 31/300\n",
            "17/17 [==============================] - 0s 3ms/step - loss: 0.6335 - mae: 0.3404\n",
            "Epoch 32/300\n",
            "17/17 [==============================] - 0s 3ms/step - loss: 0.4963 - mae: 0.3284\n",
            "Epoch 33/300\n",
            "17/17 [==============================] - 0s 3ms/step - loss: 0.5497 - mae: 0.3353\n",
            "Epoch 34/300\n",
            "17/17 [==============================] - 0s 3ms/step - loss: 0.5930 - mae: 0.3394\n",
            "Epoch 35/300\n",
            "17/17 [==============================] - 0s 3ms/step - loss: 0.5747 - mae: 0.3396\n",
            "Epoch 36/300\n",
            "17/17 [==============================] - 0s 2ms/step - loss: 0.6364 - mae: 0.3413\n",
            "Epoch 37/300\n",
            "17/17 [==============================] - 0s 3ms/step - loss: 0.5360 - mae: 0.3293\n",
            "Epoch 38/300\n",
            "17/17 [==============================] - 0s 3ms/step - loss: 0.6320 - mae: 0.3462\n",
            "Epoch 39/300\n",
            "17/17 [==============================] - 0s 4ms/step - loss: 0.5263 - mae: 0.3183\n",
            "Epoch 40/300\n",
            "17/17 [==============================] - 0s 2ms/step - loss: 0.5884 - mae: 0.3501\n",
            "Epoch 41/300\n",
            "17/17 [==============================] - 0s 2ms/step - loss: 0.5741 - mae: 0.3318\n",
            "Epoch 42/300\n",
            "17/17 [==============================] - 0s 3ms/step - loss: 0.5188 - mae: 0.3096\n",
            "Epoch 43/300\n",
            "17/17 [==============================] - 0s 3ms/step - loss: 0.5518 - mae: 0.3343\n",
            "Epoch 44/300\n",
            "17/17 [==============================] - 0s 2ms/step - loss: 0.5064 - mae: 0.3242\n",
            "Epoch 45/300\n",
            "17/17 [==============================] - 0s 3ms/step - loss: 0.5556 - mae: 0.3135\n",
            "Epoch 46/300\n",
            "17/17 [==============================] - 0s 2ms/step - loss: 0.4887 - mae: 0.3250\n",
            "Epoch 47/300\n",
            "17/17 [==============================] - 0s 2ms/step - loss: 0.5900 - mae: 0.3147\n",
            "Epoch 48/300\n",
            "17/17 [==============================] - 0s 2ms/step - loss: 0.5222 - mae: 0.3110\n",
            "Epoch 49/300\n",
            "17/17 [==============================] - 0s 2ms/step - loss: 0.4402 - mae: 0.3030\n",
            "Epoch 50/300\n",
            "17/17 [==============================] - 0s 3ms/step - loss: 0.4261 - mae: 0.3026\n",
            "Epoch 51/300\n",
            "17/17 [==============================] - 0s 2ms/step - loss: 0.4747 - mae: 0.3072\n",
            "Epoch 52/300\n",
            "17/17 [==============================] - 0s 2ms/step - loss: 0.4308 - mae: 0.3223\n",
            "Epoch 53/300\n",
            "17/17 [==============================] - 0s 2ms/step - loss: 0.4889 - mae: 0.3164\n",
            "Epoch 54/300\n",
            "17/17 [==============================] - 0s 3ms/step - loss: 0.5253 - mae: 0.3219\n",
            "Epoch 55/300\n",
            "17/17 [==============================] - 0s 3ms/step - loss: 0.6499 - mae: 0.3391\n",
            "Epoch 56/300\n",
            "17/17 [==============================] - 0s 3ms/step - loss: 0.5651 - mae: 0.3250\n",
            "Epoch 57/300\n",
            "17/17 [==============================] - 0s 2ms/step - loss: 0.4396 - mae: 0.3083\n",
            "Epoch 58/300\n",
            "17/17 [==============================] - 0s 4ms/step - loss: 0.4717 - mae: 0.2987\n",
            "Epoch 59/300\n",
            "17/17 [==============================] - 0s 2ms/step - loss: 0.4807 - mae: 0.3084\n",
            "Epoch 60/300\n",
            "17/17 [==============================] - 0s 2ms/step - loss: 0.5082 - mae: 0.3209\n",
            "Epoch 61/300\n",
            "17/17 [==============================] - 0s 3ms/step - loss: 0.4343 - mae: 0.3079\n",
            "Epoch 62/300\n",
            "17/17 [==============================] - 0s 3ms/step - loss: 0.4464 - mae: 0.3203\n",
            "Epoch 63/300\n",
            "17/17 [==============================] - 0s 2ms/step - loss: 0.5848 - mae: 0.3265\n",
            "Epoch 64/300\n",
            "17/17 [==============================] - 0s 3ms/step - loss: 0.5245 - mae: 0.3123\n",
            "Epoch 65/300\n",
            "17/17 [==============================] - 0s 3ms/step - loss: 0.4132 - mae: 0.2982\n",
            "Epoch 66/300\n",
            "17/17 [==============================] - 0s 2ms/step - loss: 0.5862 - mae: 0.3287\n",
            "Epoch 67/300\n",
            "17/17 [==============================] - 0s 3ms/step - loss: 0.5156 - mae: 0.3238\n",
            "Epoch 68/300\n",
            "17/17 [==============================] - 0s 2ms/step - loss: 0.4214 - mae: 0.2956\n",
            "Epoch 69/300\n",
            "17/17 [==============================] - 0s 3ms/step - loss: 0.4911 - mae: 0.3019\n",
            "Epoch 70/300\n",
            "17/17 [==============================] - 0s 2ms/step - loss: 0.4008 - mae: 0.2951\n",
            "Epoch 71/300\n",
            "17/17 [==============================] - 0s 2ms/step - loss: 0.5572 - mae: 0.3113\n",
            "Epoch 72/300\n",
            "17/17 [==============================] - 0s 3ms/step - loss: 0.4489 - mae: 0.2978\n",
            "Epoch 73/300\n",
            "17/17 [==============================] - 0s 3ms/step - loss: 0.3896 - mae: 0.2903\n",
            "Epoch 74/300\n",
            "17/17 [==============================] - 0s 3ms/step - loss: 0.5616 - mae: 0.3173\n",
            "Epoch 75/300\n",
            "17/17 [==============================] - 0s 2ms/step - loss: 0.4202 - mae: 0.2903\n",
            "Epoch 76/300\n",
            "17/17 [==============================] - 0s 2ms/step - loss: 0.4557 - mae: 0.3140\n",
            "Epoch 77/300\n",
            "17/17 [==============================] - 0s 4ms/step - loss: 0.4559 - mae: 0.3036\n",
            "Epoch 78/300\n",
            "17/17 [==============================] - 0s 3ms/step - loss: 0.4161 - mae: 0.3061\n",
            "Epoch 79/300\n",
            "17/17 [==============================] - 0s 3ms/step - loss: 0.4207 - mae: 0.2983\n",
            "Epoch 80/300\n",
            "17/17 [==============================] - 0s 3ms/step - loss: 0.4875 - mae: 0.3013\n",
            "Epoch 81/300\n",
            "17/17 [==============================] - 0s 3ms/step - loss: 0.4840 - mae: 0.2960\n",
            "Epoch 82/300\n",
            "17/17 [==============================] - 0s 3ms/step - loss: 0.5159 - mae: 0.3026\n",
            "Epoch 83/300\n",
            "17/17 [==============================] - 0s 3ms/step - loss: 0.3951 - mae: 0.2943\n",
            "Epoch 84/300\n",
            "17/17 [==============================] - 0s 2ms/step - loss: 0.5601 - mae: 0.3313\n",
            "Epoch 85/300\n",
            "17/17 [==============================] - 0s 3ms/step - loss: 0.4046 - mae: 0.2932\n",
            "Epoch 86/300\n",
            "17/17 [==============================] - 0s 3ms/step - loss: 0.4641 - mae: 0.2976\n",
            "Epoch 87/300\n",
            "17/17 [==============================] - 0s 3ms/step - loss: 0.5434 - mae: 0.3131\n",
            "Epoch 88/300\n",
            "17/17 [==============================] - 0s 3ms/step - loss: 0.3797 - mae: 0.2858\n",
            "Epoch 89/300\n",
            "17/17 [==============================] - 0s 3ms/step - loss: 0.4335 - mae: 0.2984\n",
            "Epoch 90/300\n",
            "17/17 [==============================] - 0s 2ms/step - loss: 0.4029 - mae: 0.2885\n",
            "Epoch 91/300\n",
            "17/17 [==============================] - 0s 2ms/step - loss: 0.4007 - mae: 0.3012\n",
            "Epoch 92/300\n",
            "17/17 [==============================] - 0s 2ms/step - loss: 0.4583 - mae: 0.3001\n",
            "Epoch 93/300\n",
            "17/17 [==============================] - 0s 3ms/step - loss: 0.4076 - mae: 0.2893\n",
            "Epoch 94/300\n",
            "17/17 [==============================] - 0s 2ms/step - loss: 0.3710 - mae: 0.2909\n",
            "Epoch 95/300\n",
            "17/17 [==============================] - 0s 3ms/step - loss: 0.3972 - mae: 0.2881\n",
            "Epoch 96/300\n",
            "17/17 [==============================] - 0s 3ms/step - loss: 0.5125 - mae: 0.3049\n",
            "Epoch 97/300\n",
            "17/17 [==============================] - 0s 3ms/step - loss: 0.4207 - mae: 0.3010\n",
            "Epoch 98/300\n",
            "17/17 [==============================] - 0s 3ms/step - loss: 0.4699 - mae: 0.3078\n",
            "Epoch 99/300\n",
            "17/17 [==============================] - 0s 3ms/step - loss: 0.3535 - mae: 0.2848\n",
            "Epoch 100/300\n",
            "17/17 [==============================] - 0s 3ms/step - loss: 0.3893 - mae: 0.2822\n",
            "Epoch 101/300\n",
            "17/17 [==============================] - 0s 3ms/step - loss: 0.4499 - mae: 0.2933\n",
            "Epoch 102/300\n",
            "17/17 [==============================] - 0s 2ms/step - loss: 0.3464 - mae: 0.2667\n",
            "Epoch 103/300\n",
            "17/17 [==============================] - 0s 2ms/step - loss: 0.3529 - mae: 0.2807\n",
            "Epoch 104/300\n",
            "17/17 [==============================] - 0s 3ms/step - loss: 0.3547 - mae: 0.2771\n",
            "Epoch 105/300\n",
            "17/17 [==============================] - 0s 3ms/step - loss: 0.3014 - mae: 0.2708\n",
            "Epoch 106/300\n",
            "17/17 [==============================] - 0s 3ms/step - loss: 0.4428 - mae: 0.3025\n",
            "Epoch 107/300\n",
            "17/17 [==============================] - 0s 3ms/step - loss: 0.4565 - mae: 0.2914\n",
            "Epoch 108/300\n",
            "17/17 [==============================] - 0s 3ms/step - loss: 0.3604 - mae: 0.2795\n",
            "Epoch 109/300\n",
            "17/17 [==============================] - 0s 3ms/step - loss: 0.4384 - mae: 0.3002\n",
            "Epoch 110/300\n",
            "17/17 [==============================] - 0s 3ms/step - loss: 0.3439 - mae: 0.2713\n",
            "Epoch 111/300\n",
            "17/17 [==============================] - 0s 3ms/step - loss: 0.4514 - mae: 0.3099\n",
            "Epoch 112/300\n",
            "17/17 [==============================] - 0s 2ms/step - loss: 0.3575 - mae: 0.2806\n",
            "Epoch 113/300\n",
            "17/17 [==============================] - 0s 3ms/step - loss: 0.3410 - mae: 0.2790\n",
            "Epoch 114/300\n",
            "17/17 [==============================] - 0s 3ms/step - loss: 0.4162 - mae: 0.2925\n",
            "Epoch 115/300\n",
            "17/17 [==============================] - 0s 3ms/step - loss: 0.3531 - mae: 0.2793\n",
            "Epoch 116/300\n",
            "17/17 [==============================] - 0s 2ms/step - loss: 0.2791 - mae: 0.2709\n",
            "Epoch 117/300\n",
            "17/17 [==============================] - 0s 3ms/step - loss: 0.4285 - mae: 0.2999\n",
            "Epoch 118/300\n",
            "17/17 [==============================] - 0s 3ms/step - loss: 0.3298 - mae: 0.2808\n",
            "Epoch 119/300\n",
            "17/17 [==============================] - 0s 3ms/step - loss: 0.4424 - mae: 0.2925\n",
            "Epoch 120/300\n",
            "17/17 [==============================] - 0s 3ms/step - loss: 0.2728 - mae: 0.2645\n",
            "Epoch 121/300\n",
            "17/17 [==============================] - 0s 3ms/step - loss: 0.3890 - mae: 0.2759\n",
            "Epoch 122/300\n",
            "17/17 [==============================] - 0s 3ms/step - loss: 0.3507 - mae: 0.2775\n",
            "Epoch 123/300\n",
            "17/17 [==============================] - 0s 2ms/step - loss: 0.3881 - mae: 0.2772\n",
            "Epoch 124/300\n",
            "17/17 [==============================] - 0s 3ms/step - loss: 0.3880 - mae: 0.2870\n",
            "Epoch 125/300\n",
            "17/17 [==============================] - 0s 3ms/step - loss: 0.2952 - mae: 0.2730\n",
            "Epoch 126/300\n",
            "17/17 [==============================] - 0s 3ms/step - loss: 0.3933 - mae: 0.2769\n",
            "Epoch 127/300\n",
            "17/17 [==============================] - 0s 3ms/step - loss: 0.3634 - mae: 0.2725\n",
            "Epoch 128/300\n",
            "17/17 [==============================] - 0s 3ms/step - loss: 0.3390 - mae: 0.2940\n",
            "Epoch 129/300\n",
            "17/17 [==============================] - 0s 2ms/step - loss: 0.5366 - mae: 0.3065\n",
            "Epoch 130/300\n",
            "17/17 [==============================] - 0s 2ms/step - loss: 0.3763 - mae: 0.2689\n",
            "Epoch 131/300\n",
            "17/17 [==============================] - 0s 3ms/step - loss: 0.3332 - mae: 0.2815\n",
            "Epoch 132/300\n",
            "17/17 [==============================] - 0s 3ms/step - loss: 0.2572 - mae: 0.2642\n",
            "Epoch 133/300\n",
            "17/17 [==============================] - 0s 3ms/step - loss: 0.3712 - mae: 0.2800\n",
            "Epoch 134/300\n",
            "17/17 [==============================] - 0s 3ms/step - loss: 0.3106 - mae: 0.2696\n",
            "Epoch 135/300\n",
            "17/17 [==============================] - 0s 3ms/step - loss: 0.2891 - mae: 0.2698\n",
            "Epoch 136/300\n",
            "17/17 [==============================] - 0s 3ms/step - loss: 0.3451 - mae: 0.2741\n",
            "Epoch 137/300\n",
            "17/17 [==============================] - 0s 3ms/step - loss: 0.4544 - mae: 0.2880\n",
            "Epoch 138/300\n",
            "17/17 [==============================] - 0s 3ms/step - loss: 0.2519 - mae: 0.2546\n",
            "Epoch 139/300\n",
            "17/17 [==============================] - 0s 3ms/step - loss: 0.3381 - mae: 0.2743\n",
            "Epoch 140/300\n",
            "17/17 [==============================] - 0s 3ms/step - loss: 0.2437 - mae: 0.2505\n",
            "Epoch 141/300\n",
            "17/17 [==============================] - 0s 3ms/step - loss: 0.2836 - mae: 0.2600\n",
            "Epoch 142/300\n",
            "17/17 [==============================] - 0s 3ms/step - loss: 0.3365 - mae: 0.2635\n",
            "Epoch 143/300\n",
            "17/17 [==============================] - 0s 2ms/step - loss: 0.3067 - mae: 0.2648\n",
            "Epoch 144/300\n",
            "17/17 [==============================] - 0s 3ms/step - loss: 0.4415 - mae: 0.2728\n",
            "Epoch 145/300\n",
            "17/17 [==============================] - 0s 3ms/step - loss: 0.3236 - mae: 0.2672\n",
            "Epoch 146/300\n",
            "17/17 [==============================] - 0s 3ms/step - loss: 0.3461 - mae: 0.2727\n",
            "Epoch 147/300\n",
            "17/17 [==============================] - 0s 3ms/step - loss: 0.3699 - mae: 0.2886\n",
            "Epoch 148/300\n",
            "17/17 [==============================] - 0s 3ms/step - loss: 0.3619 - mae: 0.2760\n",
            "Epoch 149/300\n",
            "17/17 [==============================] - 0s 4ms/step - loss: 0.2596 - mae: 0.2620\n",
            "Epoch 150/300\n",
            "17/17 [==============================] - 0s 2ms/step - loss: 0.2829 - mae: 0.2573\n",
            "Epoch 151/300\n",
            "17/17 [==============================] - 0s 3ms/step - loss: 0.2893 - mae: 0.2600\n",
            "Epoch 152/300\n",
            "17/17 [==============================] - 0s 2ms/step - loss: 0.2992 - mae: 0.2649\n",
            "Epoch 153/300\n",
            "17/17 [==============================] - 0s 3ms/step - loss: 0.3369 - mae: 0.2631\n",
            "Epoch 154/300\n",
            "17/17 [==============================] - 0s 3ms/step - loss: 0.2593 - mae: 0.2559\n",
            "Epoch 155/300\n",
            "17/17 [==============================] - 0s 2ms/step - loss: 0.2837 - mae: 0.2507\n",
            "Epoch 156/300\n",
            "17/17 [==============================] - 0s 3ms/step - loss: 0.3405 - mae: 0.2671\n",
            "Epoch 157/300\n",
            "17/17 [==============================] - 0s 3ms/step - loss: 0.3207 - mae: 0.2671\n",
            "Epoch 158/300\n",
            "17/17 [==============================] - 0s 3ms/step - loss: 0.4131 - mae: 0.2781\n",
            "Epoch 159/300\n",
            "17/17 [==============================] - 0s 3ms/step - loss: 0.2734 - mae: 0.2577\n",
            "Epoch 160/300\n",
            "17/17 [==============================] - 0s 2ms/step - loss: 0.3049 - mae: 0.2657\n",
            "Epoch 161/300\n",
            "17/17 [==============================] - 0s 3ms/step - loss: 0.2986 - mae: 0.2573\n",
            "Epoch 162/300\n",
            "17/17 [==============================] - 0s 3ms/step - loss: 0.2642 - mae: 0.2537\n",
            "Epoch 163/300\n",
            "17/17 [==============================] - 0s 3ms/step - loss: 0.3101 - mae: 0.2590\n",
            "Epoch 164/300\n",
            "17/17 [==============================] - 0s 3ms/step - loss: 0.3129 - mae: 0.2701\n",
            "Epoch 165/300\n",
            "17/17 [==============================] - 0s 2ms/step - loss: 0.2772 - mae: 0.2638\n",
            "Epoch 166/300\n",
            "17/17 [==============================] - 0s 3ms/step - loss: 0.2793 - mae: 0.2628\n",
            "Epoch 167/300\n",
            "17/17 [==============================] - 0s 4ms/step - loss: 0.3053 - mae: 0.2570\n",
            "Epoch 168/300\n",
            "17/17 [==============================] - 0s 3ms/step - loss: 0.2957 - mae: 0.2665\n",
            "Epoch 169/300\n",
            "17/17 [==============================] - 0s 3ms/step - loss: 0.2771 - mae: 0.2474\n",
            "Epoch 170/300\n",
            "17/17 [==============================] - 0s 3ms/step - loss: 0.2765 - mae: 0.2630\n",
            "Epoch 171/300\n",
            "17/17 [==============================] - 0s 3ms/step - loss: 0.2592 - mae: 0.2461\n",
            "Epoch 172/300\n",
            "17/17 [==============================] - 0s 3ms/step - loss: 0.3142 - mae: 0.2588\n",
            "Epoch 173/300\n",
            "17/17 [==============================] - 0s 2ms/step - loss: 0.3420 - mae: 0.2781\n",
            "Epoch 174/300\n",
            "17/17 [==============================] - 0s 3ms/step - loss: 0.3013 - mae: 0.2556\n",
            "Epoch 175/300\n",
            "17/17 [==============================] - 0s 3ms/step - loss: 0.2408 - mae: 0.2474\n",
            "Epoch 176/300\n",
            "17/17 [==============================] - 0s 2ms/step - loss: 0.2301 - mae: 0.2461\n",
            "Epoch 177/300\n",
            "17/17 [==============================] - 0s 3ms/step - loss: 0.3273 - mae: 0.2616\n",
            "Epoch 178/300\n",
            "17/17 [==============================] - 0s 2ms/step - loss: 0.2854 - mae: 0.2560\n",
            "Epoch 179/300\n",
            "17/17 [==============================] - 0s 3ms/step - loss: 0.2792 - mae: 0.2573\n",
            "Epoch 180/300\n",
            "17/17 [==============================] - 0s 2ms/step - loss: 0.2851 - mae: 0.2579\n",
            "Epoch 181/300\n",
            "17/17 [==============================] - 0s 2ms/step - loss: 0.2399 - mae: 0.2435\n",
            "Epoch 182/300\n",
            "17/17 [==============================] - 0s 3ms/step - loss: 0.3427 - mae: 0.2491\n",
            "Epoch 183/300\n",
            "17/17 [==============================] - 0s 2ms/step - loss: 0.2525 - mae: 0.2429\n",
            "Epoch 184/300\n",
            "17/17 [==============================] - 0s 2ms/step - loss: 0.3514 - mae: 0.2692\n",
            "Epoch 185/300\n",
            "17/17 [==============================] - 0s 2ms/step - loss: 0.3520 - mae: 0.2722\n",
            "Epoch 186/300\n",
            "17/17 [==============================] - 0s 3ms/step - loss: 0.2626 - mae: 0.2482\n",
            "Epoch 187/300\n",
            "17/17 [==============================] - 0s 2ms/step - loss: 0.2212 - mae: 0.2361\n",
            "Epoch 188/300\n",
            "17/17 [==============================] - 0s 2ms/step - loss: 0.3925 - mae: 0.2691\n",
            "Epoch 189/300\n",
            "17/17 [==============================] - 0s 3ms/step - loss: 0.1849 - mae: 0.2359\n",
            "Epoch 190/300\n",
            "17/17 [==============================] - 0s 3ms/step - loss: 0.2475 - mae: 0.2400\n",
            "Epoch 191/300\n",
            "17/17 [==============================] - 0s 3ms/step - loss: 0.2410 - mae: 0.2468\n",
            "Epoch 192/300\n",
            "17/17 [==============================] - 0s 2ms/step - loss: 0.2554 - mae: 0.2439\n",
            "Epoch 193/300\n",
            "17/17 [==============================] - 0s 3ms/step - loss: 0.3277 - mae: 0.2672\n",
            "Epoch 194/300\n",
            "17/17 [==============================] - 0s 3ms/step - loss: 0.3454 - mae: 0.2673\n",
            "Epoch 195/300\n",
            "17/17 [==============================] - 0s 2ms/step - loss: 0.2247 - mae: 0.2450\n",
            "Epoch 196/300\n",
            "17/17 [==============================] - 0s 3ms/step - loss: 0.2191 - mae: 0.2416\n",
            "Epoch 197/300\n",
            "17/17 [==============================] - 0s 3ms/step - loss: 0.2416 - mae: 0.2494\n",
            "Epoch 198/300\n",
            "17/17 [==============================] - 0s 3ms/step - loss: 0.2751 - mae: 0.2446\n",
            "Epoch 199/300\n",
            "17/17 [==============================] - 0s 2ms/step - loss: 0.2136 - mae: 0.2402\n",
            "Epoch 200/300\n",
            "17/17 [==============================] - 0s 3ms/step - loss: 0.2337 - mae: 0.2264\n",
            "Epoch 201/300\n",
            "17/17 [==============================] - 0s 2ms/step - loss: 0.2928 - mae: 0.2505\n",
            "Epoch 202/300\n",
            "17/17 [==============================] - 0s 3ms/step - loss: 0.3176 - mae: 0.2637\n",
            "Epoch 203/300\n",
            "17/17 [==============================] - 0s 3ms/step - loss: 0.2561 - mae: 0.2443\n",
            "Epoch 204/300\n",
            "17/17 [==============================] - 0s 3ms/step - loss: 0.2822 - mae: 0.2397\n",
            "Epoch 205/300\n",
            "17/17 [==============================] - 0s 3ms/step - loss: 0.2763 - mae: 0.2613\n",
            "Epoch 206/300\n",
            "17/17 [==============================] - 0s 4ms/step - loss: 0.2254 - mae: 0.2398\n",
            "Epoch 207/300\n",
            "17/17 [==============================] - 0s 3ms/step - loss: 0.3075 - mae: 0.2526\n",
            "Epoch 208/300\n",
            "17/17 [==============================] - 0s 3ms/step - loss: 0.3084 - mae: 0.2549\n",
            "Epoch 209/300\n",
            "17/17 [==============================] - 0s 3ms/step - loss: 0.2401 - mae: 0.2412\n",
            "Epoch 210/300\n",
            "17/17 [==============================] - 0s 3ms/step - loss: 0.2098 - mae: 0.2334\n",
            "Epoch 211/300\n",
            "17/17 [==============================] - 0s 2ms/step - loss: 0.2087 - mae: 0.2334\n",
            "Epoch 212/300\n",
            "17/17 [==============================] - 0s 2ms/step - loss: 0.2925 - mae: 0.2605\n",
            "Epoch 213/300\n",
            "17/17 [==============================] - 0s 2ms/step - loss: 0.2376 - mae: 0.2442\n",
            "Epoch 214/300\n",
            "17/17 [==============================] - 0s 3ms/step - loss: 0.2369 - mae: 0.2434\n",
            "Epoch 215/300\n",
            "17/17 [==============================] - 0s 3ms/step - loss: 0.2409 - mae: 0.2357\n",
            "Epoch 216/300\n",
            "17/17 [==============================] - 0s 3ms/step - loss: 0.2986 - mae: 0.2521\n",
            "Epoch 217/300\n",
            "17/17 [==============================] - 0s 3ms/step - loss: 0.1922 - mae: 0.2342\n",
            "Epoch 218/300\n",
            "17/17 [==============================] - 0s 3ms/step - loss: 0.2701 - mae: 0.2588\n",
            "Epoch 219/300\n",
            "17/17 [==============================] - 0s 5ms/step - loss: 0.2223 - mae: 0.2329\n",
            "Epoch 220/300\n",
            "17/17 [==============================] - 0s 4ms/step - loss: 0.3058 - mae: 0.2530\n",
            "Epoch 221/300\n",
            "17/17 [==============================] - 0s 3ms/step - loss: 0.3228 - mae: 0.2603\n",
            "Epoch 222/300\n",
            "17/17 [==============================] - 0s 3ms/step - loss: 0.1982 - mae: 0.2345\n",
            "Epoch 223/300\n",
            "17/17 [==============================] - 0s 3ms/step - loss: 0.1899 - mae: 0.2312\n",
            "Epoch 224/300\n",
            "17/17 [==============================] - 0s 3ms/step - loss: 0.3486 - mae: 0.2615\n",
            "Epoch 225/300\n",
            "17/17 [==============================] - 0s 3ms/step - loss: 0.2952 - mae: 0.2431\n",
            "Epoch 226/300\n",
            "17/17 [==============================] - 0s 3ms/step - loss: 0.2168 - mae: 0.2392\n",
            "Epoch 227/300\n",
            "17/17 [==============================] - 0s 3ms/step - loss: 0.1853 - mae: 0.2220\n",
            "Epoch 228/300\n",
            "17/17 [==============================] - 0s 3ms/step - loss: 0.2772 - mae: 0.2410\n",
            "Epoch 229/300\n",
            "17/17 [==============================] - 0s 3ms/step - loss: 0.1858 - mae: 0.2308\n",
            "Epoch 230/300\n",
            "17/17 [==============================] - 0s 3ms/step - loss: 0.2081 - mae: 0.2261\n",
            "Epoch 231/300\n",
            "17/17 [==============================] - 0s 3ms/step - loss: 0.1905 - mae: 0.2428\n",
            "Epoch 232/300\n",
            "17/17 [==============================] - 0s 3ms/step - loss: 0.2142 - mae: 0.2296\n",
            "Epoch 233/300\n",
            "17/17 [==============================] - 0s 3ms/step - loss: 0.2190 - mae: 0.2416\n",
            "Epoch 234/300\n",
            "17/17 [==============================] - 0s 3ms/step - loss: 0.2674 - mae: 0.2384\n",
            "Epoch 235/300\n",
            "17/17 [==============================] - 0s 3ms/step - loss: 0.2399 - mae: 0.2352\n",
            "Epoch 236/300\n",
            "17/17 [==============================] - 0s 3ms/step - loss: 0.1718 - mae: 0.2272\n",
            "Epoch 237/300\n",
            "17/17 [==============================] - 0s 3ms/step - loss: 0.3346 - mae: 0.2632\n",
            "Epoch 238/300\n",
            "17/17 [==============================] - 0s 3ms/step - loss: 0.1815 - mae: 0.2253\n",
            "Epoch 239/300\n",
            "17/17 [==============================] - 0s 2ms/step - loss: 0.3155 - mae: 0.2511\n",
            "Epoch 240/300\n",
            "17/17 [==============================] - 0s 3ms/step - loss: 0.2293 - mae: 0.2304\n",
            "Epoch 241/300\n",
            "17/17 [==============================] - 0s 3ms/step - loss: 0.1930 - mae: 0.2336\n",
            "Epoch 242/300\n",
            "17/17 [==============================] - 0s 3ms/step - loss: 0.2337 - mae: 0.2379\n",
            "Epoch 243/300\n",
            "17/17 [==============================] - 0s 3ms/step - loss: 0.2580 - mae: 0.2531\n",
            "Epoch 244/300\n",
            "17/17 [==============================] - 0s 2ms/step - loss: 0.2555 - mae: 0.2448\n",
            "Epoch 245/300\n",
            "17/17 [==============================] - 0s 2ms/step - loss: 0.2427 - mae: 0.2460\n",
            "Epoch 246/300\n",
            "17/17 [==============================] - 0s 3ms/step - loss: 0.2746 - mae: 0.2381\n",
            "Epoch 247/300\n",
            "17/17 [==============================] - 0s 3ms/step - loss: 0.2066 - mae: 0.2270\n",
            "Epoch 248/300\n",
            "17/17 [==============================] - 0s 3ms/step - loss: 0.2873 - mae: 0.2501\n",
            "Epoch 249/300\n",
            "17/17 [==============================] - 0s 3ms/step - loss: 0.2476 - mae: 0.2359\n",
            "Epoch 250/300\n",
            "17/17 [==============================] - 0s 3ms/step - loss: 0.2790 - mae: 0.2420\n",
            "Epoch 251/300\n",
            "17/17 [==============================] - 0s 3ms/step - loss: 0.1740 - mae: 0.2344\n",
            "Epoch 252/300\n",
            "17/17 [==============================] - 0s 3ms/step - loss: 0.2406 - mae: 0.2330\n",
            "Epoch 253/300\n",
            "17/17 [==============================] - 0s 3ms/step - loss: 0.2334 - mae: 0.2335\n",
            "Epoch 254/300\n",
            "17/17 [==============================] - 0s 3ms/step - loss: 0.1885 - mae: 0.2253\n",
            "Epoch 255/300\n",
            "17/17 [==============================] - 0s 3ms/step - loss: 0.2560 - mae: 0.2323\n",
            "Epoch 256/300\n",
            "17/17 [==============================] - 0s 2ms/step - loss: 0.2642 - mae: 0.2384\n",
            "Epoch 257/300\n",
            "17/17 [==============================] - 0s 3ms/step - loss: 0.2417 - mae: 0.2349\n",
            "Epoch 258/300\n",
            "17/17 [==============================] - 0s 3ms/step - loss: 0.1951 - mae: 0.2293\n",
            "Epoch 259/300\n",
            "17/17 [==============================] - 0s 3ms/step - loss: 0.2848 - mae: 0.2287\n",
            "Epoch 260/300\n",
            "17/17 [==============================] - 0s 2ms/step - loss: 0.1986 - mae: 0.2188\n",
            "Epoch 261/300\n",
            "17/17 [==============================] - 0s 3ms/step - loss: 0.1903 - mae: 0.2382\n",
            "Epoch 262/300\n",
            "17/17 [==============================] - 0s 2ms/step - loss: 0.1953 - mae: 0.2176\n",
            "Epoch 263/300\n",
            "17/17 [==============================] - 0s 3ms/step - loss: 0.2302 - mae: 0.2396\n",
            "Epoch 264/300\n",
            "17/17 [==============================] - 0s 3ms/step - loss: 0.3065 - mae: 0.2520\n",
            "Epoch 265/300\n",
            "17/17 [==============================] - 0s 3ms/step - loss: 0.2910 - mae: 0.2414\n",
            "Epoch 266/300\n",
            "17/17 [==============================] - 0s 2ms/step - loss: 0.2340 - mae: 0.2342\n",
            "Epoch 267/300\n",
            "17/17 [==============================] - 0s 2ms/step - loss: 0.2235 - mae: 0.2314\n",
            "Epoch 268/300\n",
            "17/17 [==============================] - 0s 2ms/step - loss: 0.2121 - mae: 0.2312\n",
            "Epoch 269/300\n",
            "17/17 [==============================] - 0s 2ms/step - loss: 0.2373 - mae: 0.2258\n",
            "Epoch 270/300\n",
            "17/17 [==============================] - 0s 3ms/step - loss: 0.2303 - mae: 0.2332\n",
            "Epoch 271/300\n",
            "17/17 [==============================] - 0s 3ms/step - loss: 0.3645 - mae: 0.2511\n",
            "Epoch 272/300\n",
            "17/17 [==============================] - 0s 3ms/step - loss: 0.2798 - mae: 0.2458\n",
            "Epoch 273/300\n",
            "17/17 [==============================] - 0s 4ms/step - loss: 0.1685 - mae: 0.2300\n",
            "Epoch 274/300\n",
            "17/17 [==============================] - 0s 3ms/step - loss: 0.2240 - mae: 0.2360\n",
            "Epoch 275/300\n",
            "17/17 [==============================] - 0s 3ms/step - loss: 0.2590 - mae: 0.2365\n",
            "Epoch 276/300\n",
            "17/17 [==============================] - 0s 3ms/step - loss: 0.2297 - mae: 0.2338\n",
            "Epoch 277/300\n",
            "17/17 [==============================] - 0s 3ms/step - loss: 0.1864 - mae: 0.2218\n",
            "Epoch 278/300\n",
            "17/17 [==============================] - 0s 3ms/step - loss: 0.2378 - mae: 0.2321\n",
            "Epoch 279/300\n",
            "17/17 [==============================] - 0s 3ms/step - loss: 0.2931 - mae: 0.2475\n",
            "Epoch 280/300\n",
            "17/17 [==============================] - 0s 3ms/step - loss: 0.1570 - mae: 0.2162\n",
            "Epoch 281/300\n",
            "17/17 [==============================] - 0s 3ms/step - loss: 0.1575 - mae: 0.2190\n",
            "Epoch 282/300\n",
            "17/17 [==============================] - 0s 4ms/step - loss: 0.1939 - mae: 0.2212\n",
            "Epoch 283/300\n",
            "17/17 [==============================] - 0s 3ms/step - loss: 0.1531 - mae: 0.2155\n",
            "Epoch 284/300\n",
            "17/17 [==============================] - 0s 3ms/step - loss: 0.1584 - mae: 0.2172\n",
            "Epoch 285/300\n",
            "17/17 [==============================] - 0s 2ms/step - loss: 0.2639 - mae: 0.2341\n",
            "Epoch 286/300\n",
            "17/17 [==============================] - 0s 3ms/step - loss: 0.2012 - mae: 0.2324\n",
            "Epoch 287/300\n",
            "17/17 [==============================] - 0s 2ms/step - loss: 0.2513 - mae: 0.2324\n",
            "Epoch 288/300\n",
            "17/17 [==============================] - 0s 3ms/step - loss: 0.1607 - mae: 0.2184\n",
            "Epoch 289/300\n",
            "17/17 [==============================] - 0s 3ms/step - loss: 0.1694 - mae: 0.2138\n",
            "Epoch 290/300\n",
            "17/17 [==============================] - 0s 2ms/step - loss: 0.1661 - mae: 0.2167\n",
            "Epoch 291/300\n",
            "17/17 [==============================] - 0s 4ms/step - loss: 0.2320 - mae: 0.2298\n",
            "Epoch 292/300\n",
            "17/17 [==============================] - 0s 3ms/step - loss: 0.1588 - mae: 0.2152\n",
            "Epoch 293/300\n",
            "17/17 [==============================] - 0s 3ms/step - loss: 0.2948 - mae: 0.2243\n",
            "Epoch 294/300\n",
            "17/17 [==============================] - 0s 3ms/step - loss: 0.2304 - mae: 0.2296\n",
            "Epoch 295/300\n",
            "17/17 [==============================] - 0s 3ms/step - loss: 0.2442 - mae: 0.2303\n",
            "Epoch 296/300\n",
            "17/17 [==============================] - 0s 3ms/step - loss: 0.2769 - mae: 0.2287\n",
            "Epoch 297/300\n",
            "17/17 [==============================] - 0s 3ms/step - loss: 0.1994 - mae: 0.2241\n",
            "Epoch 298/300\n",
            "17/17 [==============================] - 0s 3ms/step - loss: 0.2052 - mae: 0.2266\n",
            "Epoch 299/300\n",
            "17/17 [==============================] - 0s 3ms/step - loss: 0.1791 - mae: 0.2192\n",
            "Epoch 300/300\n",
            "17/17 [==============================] - 0s 3ms/step - loss: 0.2084 - mae: 0.2268\n"
          ]
        },
        {
          "output_type": "execute_result",
          "data": {
            "text/plain": [
              "<keras.callbacks.History at 0x7f6c834fa150>"
            ]
          },
          "metadata": {},
          "execution_count": 121
        }
      ]
    },
    {
      "cell_type": "code",
      "source": [
        "model2.evaluate(x_test, y_test)"
      ],
      "metadata": {
        "colab": {
          "base_uri": "https://localhost:8080/"
        },
        "id": "TrrdUq8uUllD",
        "outputId": "37857e69-2825-4797-f02e-aabb9264d4b1"
      },
      "execution_count": 122,
      "outputs": [
        {
          "output_type": "stream",
          "name": "stdout",
          "text": [
            "7/7 [==============================] - 0s 3ms/step - loss: 1.0238 - mae: 0.3864\n"
          ]
        },
        {
          "output_type": "execute_result",
          "data": {
            "text/plain": [
              "[1.0238313674926758, 0.38640597462654114]"
            ]
          },
          "metadata": {},
          "execution_count": 122
        }
      ]
    }
  ]
}